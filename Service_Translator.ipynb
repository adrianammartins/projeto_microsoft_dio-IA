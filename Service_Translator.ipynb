{
  "nbformat": 4,
  "nbformat_minor": 0,
  "metadata": {
    "colab": {
      "provenance": [],
      "authorship_tag": "ABX9TyPm40d9q0QqRdOVmlx/bwKz",
      "include_colab_link": true
    },
    "kernelspec": {
      "name": "python3",
      "display_name": "Python 3"
    },
    "language_info": {
      "name": "python"
    }
  },
  "cells": [
    {
      "cell_type": "markdown",
      "metadata": {
        "id": "view-in-github",
        "colab_type": "text"
      },
      "source": [
        "<a href=\"https://colab.research.google.com/github/adrianammartins/projeto_microsoft_dio-IA/blob/main/Service_Translator.ipynb\" target=\"_parent\"><img src=\"https://colab.research.google.com/assets/colab-badge.svg\" alt=\"Open In Colab\"/></a>"
      ]
    },
    {
      "cell_type": "code",
      "execution_count": 1,
      "metadata": {
        "colab": {
          "base_uri": "https://localhost:8080/"
        },
        "id": "x3QWFKFrvQxp",
        "outputId": "335abd46-bf4c-4eb9-8d69-45727b2d27f5"
      },
      "outputs": [
        {
          "output_type": "stream",
          "name": "stdout",
          "text": [
            "Requirement already satisfied: requests in /usr/local/lib/python3.10/dist-packages (2.32.3)\n",
            "Collecting python-docx\n",
            "  Downloading python_docx-1.1.2-py3-none-any.whl.metadata (2.0 kB)\n",
            "Requirement already satisfied: charset-normalizer<4,>=2 in /usr/local/lib/python3.10/dist-packages (from requests) (3.4.0)\n",
            "Requirement already satisfied: idna<4,>=2.5 in /usr/local/lib/python3.10/dist-packages (from requests) (3.10)\n",
            "Requirement already satisfied: urllib3<3,>=1.21.1 in /usr/local/lib/python3.10/dist-packages (from requests) (2.2.3)\n",
            "Requirement already satisfied: certifi>=2017.4.17 in /usr/local/lib/python3.10/dist-packages (from requests) (2024.8.30)\n",
            "Requirement already satisfied: lxml>=3.1.0 in /usr/local/lib/python3.10/dist-packages (from python-docx) (5.3.0)\n",
            "Requirement already satisfied: typing-extensions>=4.9.0 in /usr/local/lib/python3.10/dist-packages (from python-docx) (4.12.2)\n",
            "Downloading python_docx-1.1.2-py3-none-any.whl (244 kB)\n",
            "\u001b[2K   \u001b[90m━━━━━━━━━━━━━━━━━━━━━━━━━━━━━━━━━━━━━━━━\u001b[0m \u001b[32m244.3/244.3 kB\u001b[0m \u001b[31m5.0 MB/s\u001b[0m eta \u001b[36m0:00:00\u001b[0m\n",
            "\u001b[?25hInstalling collected packages: python-docx\n",
            "Successfully installed python-docx-1.1.2\n"
          ]
        }
      ],
      "source": [
        "!pip install requests python-docx"
      ]
    },
    {
      "cell_type": "code",
      "source": [
        "import requests\n",
        "from docx import Document\n",
        "import os\n",
        "\n",
        "subsription_key = \"37UeNfIqVB4ZhZkkx2VJ4IlzAzNERkfgJsQmMsFWMcRntS1NRgNcJQQJ99AKACHYHv6XJ3w3AAAbACOGPlO0\"\n",
        "endpoint = 'https://api.cognitive.microsofttranslator.com'\n",
        "location = \"eastus2\"\n",
        "language_destination = \"pt-br\"\n",
        "\n",
        "def translator_text(text, target_language):\n",
        "  path = '/translate'\n",
        "  constructed_url = endpoint + path\n",
        "  headers = {\n",
        "      'Ocp-Apim-Subscription-Key': subsription_key,\n",
        "      'Ocp-Apim-Subscription-Region': location,\n",
        "      'Content-type': 'application/json',\n",
        "      'X-ClientTraceId': str(os.urandom(16))\n",
        "    }\n",
        "\n",
        "  body = [{\n",
        "        'text': text\n",
        "    }]\n",
        "  params = {\n",
        "    'api-version': '3.0',\n",
        "    'from': 'en',\n",
        "    'to': [target_language]\n",
        "}\n",
        "  request = requests.post(constructed_url, params=params, headers=headers, json=body)\n",
        "  response = request.json()\n",
        "  return response[0]['translations'][0]['text']"
      ],
      "metadata": {
        "id": "Zt_MlEGhwuQL"
      },
      "execution_count": 8,
      "outputs": []
    },
    {
      "cell_type": "code",
      "source": [
        "translator_text(\"I know youre somewhere out there, somewhere far away\", language_destination)"
      ],
      "metadata": {
        "colab": {
          "base_uri": "https://localhost:8080/",
          "height": 35
        },
        "id": "YJ72s0Y_1o7Y",
        "outputId": "acaaacb4-bce2-4a47-b7c1-c5c81e9fcba5"
      },
      "execution_count": 11,
      "outputs": [
        {
          "output_type": "execute_result",
          "data": {
            "text/plain": [
              "'Eu sei que você está em algum lugar lá fora, em algum lugar distante'"
            ],
            "application/vnd.google.colaboratory.intrinsic+json": {
              "type": "string"
            }
          },
          "metadata": {},
          "execution_count": 11
        }
      ]
    },
    {
      "cell_type": "code",
      "source": [
        "def translate_document(path):\n",
        "  document = Document(path)\n",
        "  full_text = []\n",
        "  for paragraph in document.paragraphs:\n",
        "    translated_text = translator_text(paragraph.text, language_destination)\n",
        "    full_text.append(translated_text)\n",
        "\n",
        "  translated_doc = Document()\n",
        "  for line in full_text:\n",
        "    print(line)\n",
        "    translated_doc.add_paragraph(line)\n",
        "  path_translated = path.replace('.docx', f'_{language_destination}.docx')\n",
        "  translated_doc.save(path_translated)\n",
        "  return path_translated\n",
        "\n",
        "input_file = \"/content/Musica.docx\"\n",
        "translate_document(input_file)\n",
        ""
      ],
      "metadata": {
        "colab": {
          "base_uri": "https://localhost:8080/",
          "height": 573
        },
        "id": "xSbyJsrd2agi",
        "outputId": "73b294b5-f2c7-4b5f-c8a4-241fa5ead5a5"
      },
      "execution_count": 17,
      "outputs": [
        {
          "output_type": "stream",
          "name": "stdout",
          "text": [
            "Eu sei que você está em algum lugar lá fora, em algum lugar distante\n",
            "Eu quero você de volta, eu quero você de volta\n",
            "Meus vizinhos acham que sou louco, mas não entendem\n",
            "Você é tudo que eu tinha, você é tudo que eu tinha\n",
            "À noite, quando as estrelas iluminam meu quarto\n",
            "Eu sento sozinho\n",
            "Falando com a lua\n",
            "Tentando chegar até você\n",
            "Na esperança de que você esteja do outro lado falando comigo também\n",
            "Ou sou um tolo que se senta sozinho conversando com a lua?\n",
            "Ah\n",
            "Eu estou me sentindo como se eu fosse famoso, o assunto da cidade\n",
            "Eles dizem que eu enlouqueci, sim, eu enlouqueci\n",
            "Mas eles não sabem o que eu sei, porque quando o sol se põe\n",
            "Alguém está respondendo, sim, eles estão respondendo, oh\n",
            "À noite, quando as estrelas iluminam meu quarto\n",
            "Eu sento sozinho\n",
            "Falando com a lua\n",
            "Tentando chegar até você\n",
            "Na esperança de que você esteja do outro lado falando comigo também\n",
            "Ou sou um tolo que se senta sozinho conversando com a lua?\n",
            "Ah, ah, ah\n",
            "Você já me ouviu chamando?\n",
            "(Ah) oh-oh-oh (ah), oh-oh-oh (ah)\n",
            "Porque todas as noites eu estou falando com a lua\n",
            "Ainda tentando chegar até você\n",
            "Na esperança de que você esteja do outro lado falando comigo também\n",
            "Ou sou um tolo que se senta sozinho conversando com a lua?\n",
            "Ah\n",
            "Eu sei que você está em algum lugar lá fora, em algum lugar distante\n",
            "\n"
          ]
        },
        {
          "output_type": "execute_result",
          "data": {
            "text/plain": [
              "'/content/Musica_pt-br.docx'"
            ],
            "application/vnd.google.colaboratory.intrinsic+json": {
              "type": "string"
            }
          },
          "metadata": {},
          "execution_count": 17
        }
      ]
    },
    {
      "cell_type": "code",
      "source": [],
      "metadata": {
        "id": "iPrKQXQl55Eu"
      },
      "execution_count": null,
      "outputs": []
    }
  ]
}